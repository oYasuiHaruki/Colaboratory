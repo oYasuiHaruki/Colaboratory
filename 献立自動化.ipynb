{
  "cells": [
    {
      "cell_type": "markdown",
      "metadata": {
        "id": "view-in-github",
        "colab_type": "text"
      },
      "source": [
        "<a href=\"https://colab.research.google.com/github/oYasuiHaruki/Colaboratory/blob/main/%E7%8C%AE%E7%AB%8B%E8%87%AA%E5%8B%95%E5%8C%96.ipynb\" target=\"_parent\"><img src=\"https://colab.research.google.com/assets/colab-badge.svg\" alt=\"Open In Colab\"/></a>"
      ]
    },
    {
      "cell_type": "markdown",
      "source": [
        "globを利用して、uploadされたexcelのfilepathを取得する。"
      ],
      "metadata": {
        "id": "ImaWauPQUXZN"
      }
    },
    {
      "cell_type": "code",
      "execution_count": 155,
      "metadata": {
        "id": "J2_cWDVqq0WC"
      },
      "outputs": [],
      "source": [
        "import pandas as pd\n",
        "from glob import glob"
      ]
    },
    {
      "cell_type": "markdown",
      "source": [
        "1つのexcelファイルを上げる前提。globでそのまま取得すると、リスト形式なので、インデックスで0を指定。"
      ],
      "metadata": {
        "id": "hrGSojO4UYuQ"
      }
    },
    {
      "cell_type": "code",
      "source": [
        "filepaths = glob('/content/*.xlsx')\n",
        "filepath = filepaths[0]"
      ],
      "metadata": {
        "id": "HdtTmbvKQXmb"
      },
      "execution_count": 156,
      "outputs": []
    },
    {
      "cell_type": "markdown",
      "source": [
        "複数シートがあるエクセルの場合は、read_excelのタイミングでsheet_nameの変数に指定する必要あり。  \n",
        "\n",
        "指定しない場合はdefaultの0、つまり一枚目が入る。"
      ],
      "metadata": {
        "id": "z6h-ElUIUbom"
      }
    },
    {
      "cell_type": "code",
      "execution_count": 157,
      "metadata": {
        "id": "eM7jIzOrq033"
      },
      "outputs": [],
      "source": [
        "kondate_hyo = pd.read_excel(filepath, sheet_name = \"献立表\")"
      ]
    },
    {
      "cell_type": "code",
      "execution_count": 140,
      "metadata": {
        "id": "eBWmmC_1q5Fy"
      },
      "outputs": [],
      "source": [
        "recipe_detail = pd.read_excel(filepath, sheet_name = \"レシピ詳細\")"
      ]
    },
    {
      "cell_type": "markdown",
      "source": [
        "レシピ詳細から、材料と数量を取ってくるものを入れておくリスト。"
      ],
      "metadata": {
        "id": "iWf_sr6PUzOp"
      }
    },
    {
      "cell_type": "code",
      "execution_count": 141,
      "metadata": {
        "id": "QSmq_Qkeq6dh"
      },
      "outputs": [],
      "source": [
        "zairyo_lists = []\n",
        "suryo_lists = []"
      ]
    },
    {
      "cell_type": "markdown",
      "source": [
        "excelから分析に必要最小限のものを切り取る。これを先にしておかないと、あとで処理が大変。"
      ],
      "metadata": {
        "id": "MqAm4mIRU6Dk"
      }
    },
    {
      "cell_type": "code",
      "source": [
        "kondate_hyo = kondate_hyo.iloc[2:8, 3:10]"
      ],
      "metadata": {
        "id": "_GZMfxxMH5xC"
      },
      "execution_count": 142,
      "outputs": []
    },
    {
      "cell_type": "markdown",
      "source": [
        "列名を変更。"
      ],
      "metadata": {
        "id": "2u59xTbfVCdM"
      }
    },
    {
      "cell_type": "code",
      "source": [
        "kondate_hyo.columns = ['日曜日', \n",
        "                       '月曜日',\n",
        "                       '火曜日',\n",
        "                       '水曜日',\n",
        "                       '木曜日',\n",
        "                       '金曜日',\n",
        "                       '土曜日',\n",
        "                       ]"
      ],
      "metadata": {
        "id": "-Gh0ICsVIBm1"
      },
      "execution_count": 143,
      "outputs": []
    },
    {
      "cell_type": "markdown",
      "source": [
        "ilocを利用するため、indexを修正。"
      ],
      "metadata": {
        "id": "DZYtJ_VLVFeT"
      }
    },
    {
      "cell_type": "code",
      "source": [
        "kondate_hyo.reset_index(inplace = True, drop = True)"
      ],
      "metadata": {
        "id": "1m3YMnQUJynj"
      },
      "execution_count": 144,
      "outputs": []
    },
    {
      "cell_type": "markdown",
      "source": [
        "欠損値を文字列を代入することで、欠損値判定を楽にする。"
      ],
      "metadata": {
        "id": "iDN_G7INVJJ2"
      }
    },
    {
      "cell_type": "code",
      "source": [
        "kondate_hyo.fillna(value = \"なし\", inplace = True)"
      ],
      "metadata": {
        "id": "NSXcuQorJbAu"
      },
      "execution_count": 145,
      "outputs": []
    },
    {
      "cell_type": "markdown",
      "source": [
        "\n",
        "\n",
        "1.   献立表から料理を取得してくる。\n",
        "2.   レシピ詳細から、1で取得した料理の材料と数量を取得してくる。\n",
        "3.   zairyo_listsとsuryo_listsに入れる。\n",
        "4.   繰り返す\n",
        "\n"
      ],
      "metadata": {
        "id": "D-Sa2W4qVPSc"
      }
    },
    {
      "cell_type": "code",
      "execution_count": null,
      "metadata": {
        "id": "es6ehO7MrANj"
      },
      "outputs": [],
      "source": [
        "for n in range(7):\n",
        "    for m in range(6):\n",
        "        item = kondate_hyo.iloc[m, n]\n",
        "        if item == 'なし':\n",
        "            print('なし')\n",
        "            continue\n",
        "        print(f'itemは{item}')\n",
        "        target_row = recipe_detail[recipe_detail['料理名'] == item]\n",
        "        zairyo = target_row['材料'].values.tolist()[0]\n",
        "        suryo = target_row['数量'].values.tolist()[0]\n",
        "        zairyo_list = zairyo.split(',')\n",
        "        suryo_list = suryo.split(',')\n",
        "        for i in range(len(zairyo_list)):\n",
        "            zairyo_lists.append(zairyo_list[i])\n",
        "        for i in range(len(suryo_list)):\n",
        "            suryo_lists.append(float(suryo_list[i]))\n",
        "    print('\\n')"
      ]
    },
    {
      "cell_type": "markdown",
      "source": [
        "dataframeにzairyo_listsとsuryo_listsを入れる。"
      ],
      "metadata": {
        "id": "RbD7FZxKVkDG"
      }
    },
    {
      "cell_type": "code",
      "execution_count": 147,
      "metadata": {
        "id": "23Q6-HzPrKUd"
      },
      "outputs": [],
      "source": [
        "todo_csv = pd.DataFrame(\n",
        "    data = {'材料': zairyo_lists,\n",
        "            '数量': suryo_lists}\n",
        ")"
      ]
    },
    {
      "cell_type": "code",
      "execution_count": 148,
      "metadata": {
        "colab": {
          "base_uri": "https://localhost:8080/",
          "height": 424
        },
        "id": "dv-zn7M-rU9y",
        "outputId": "63660ddc-78bb-449d-ee6b-7a88de960e6a"
      },
      "outputs": [
        {
          "output_type": "execute_result",
          "data": {
            "text/plain": [
              "       材料     数量\n",
              "0     玉ねぎ    0.5\n",
              "1    にんじん    0.3\n",
              "2    豚ひき肉  130.0\n",
              "3     玉ねぎ    0.5\n",
              "4      豆腐    1.0\n",
              "..    ...    ...\n",
              "100  にんじん    0.3\n",
              "101  豚ひき肉  130.0\n",
              "102   玉ねぎ    0.5\n",
              "103    豆腐    1.0\n",
              "104    味噌    0.5\n",
              "\n",
              "[105 rows x 2 columns]"
            ],
            "text/html": [
              "\n",
              "  <div id=\"df-c3df5620-3c59-468c-b684-ba725b266759\">\n",
              "    <div class=\"colab-df-container\">\n",
              "      <div>\n",
              "<style scoped>\n",
              "    .dataframe tbody tr th:only-of-type {\n",
              "        vertical-align: middle;\n",
              "    }\n",
              "\n",
              "    .dataframe tbody tr th {\n",
              "        vertical-align: top;\n",
              "    }\n",
              "\n",
              "    .dataframe thead th {\n",
              "        text-align: right;\n",
              "    }\n",
              "</style>\n",
              "<table border=\"1\" class=\"dataframe\">\n",
              "  <thead>\n",
              "    <tr style=\"text-align: right;\">\n",
              "      <th></th>\n",
              "      <th>材料</th>\n",
              "      <th>数量</th>\n",
              "    </tr>\n",
              "  </thead>\n",
              "  <tbody>\n",
              "    <tr>\n",
              "      <th>0</th>\n",
              "      <td>玉ねぎ</td>\n",
              "      <td>0.5</td>\n",
              "    </tr>\n",
              "    <tr>\n",
              "      <th>1</th>\n",
              "      <td>にんじん</td>\n",
              "      <td>0.3</td>\n",
              "    </tr>\n",
              "    <tr>\n",
              "      <th>2</th>\n",
              "      <td>豚ひき肉</td>\n",
              "      <td>130.0</td>\n",
              "    </tr>\n",
              "    <tr>\n",
              "      <th>3</th>\n",
              "      <td>玉ねぎ</td>\n",
              "      <td>0.5</td>\n",
              "    </tr>\n",
              "    <tr>\n",
              "      <th>4</th>\n",
              "      <td>豆腐</td>\n",
              "      <td>1.0</td>\n",
              "    </tr>\n",
              "    <tr>\n",
              "      <th>...</th>\n",
              "      <td>...</td>\n",
              "      <td>...</td>\n",
              "    </tr>\n",
              "    <tr>\n",
              "      <th>100</th>\n",
              "      <td>にんじん</td>\n",
              "      <td>0.3</td>\n",
              "    </tr>\n",
              "    <tr>\n",
              "      <th>101</th>\n",
              "      <td>豚ひき肉</td>\n",
              "      <td>130.0</td>\n",
              "    </tr>\n",
              "    <tr>\n",
              "      <th>102</th>\n",
              "      <td>玉ねぎ</td>\n",
              "      <td>0.5</td>\n",
              "    </tr>\n",
              "    <tr>\n",
              "      <th>103</th>\n",
              "      <td>豆腐</td>\n",
              "      <td>1.0</td>\n",
              "    </tr>\n",
              "    <tr>\n",
              "      <th>104</th>\n",
              "      <td>味噌</td>\n",
              "      <td>0.5</td>\n",
              "    </tr>\n",
              "  </tbody>\n",
              "</table>\n",
              "<p>105 rows × 2 columns</p>\n",
              "</div>\n",
              "      <button class=\"colab-df-convert\" onclick=\"convertToInteractive('df-c3df5620-3c59-468c-b684-ba725b266759')\"\n",
              "              title=\"Convert this dataframe to an interactive table.\"\n",
              "              style=\"display:none;\">\n",
              "        \n",
              "  <svg xmlns=\"http://www.w3.org/2000/svg\" height=\"24px\"viewBox=\"0 0 24 24\"\n",
              "       width=\"24px\">\n",
              "    <path d=\"M0 0h24v24H0V0z\" fill=\"none\"/>\n",
              "    <path d=\"M18.56 5.44l.94 2.06.94-2.06 2.06-.94-2.06-.94-.94-2.06-.94 2.06-2.06.94zm-11 1L8.5 8.5l.94-2.06 2.06-.94-2.06-.94L8.5 2.5l-.94 2.06-2.06.94zm10 10l.94 2.06.94-2.06 2.06-.94-2.06-.94-.94-2.06-.94 2.06-2.06.94z\"/><path d=\"M17.41 7.96l-1.37-1.37c-.4-.4-.92-.59-1.43-.59-.52 0-1.04.2-1.43.59L10.3 9.45l-7.72 7.72c-.78.78-.78 2.05 0 2.83L4 21.41c.39.39.9.59 1.41.59.51 0 1.02-.2 1.41-.59l7.78-7.78 2.81-2.81c.8-.78.8-2.07 0-2.86zM5.41 20L4 18.59l7.72-7.72 1.47 1.35L5.41 20z\"/>\n",
              "  </svg>\n",
              "      </button>\n",
              "      \n",
              "  <style>\n",
              "    .colab-df-container {\n",
              "      display:flex;\n",
              "      flex-wrap:wrap;\n",
              "      gap: 12px;\n",
              "    }\n",
              "\n",
              "    .colab-df-convert {\n",
              "      background-color: #E8F0FE;\n",
              "      border: none;\n",
              "      border-radius: 50%;\n",
              "      cursor: pointer;\n",
              "      display: none;\n",
              "      fill: #1967D2;\n",
              "      height: 32px;\n",
              "      padding: 0 0 0 0;\n",
              "      width: 32px;\n",
              "    }\n",
              "\n",
              "    .colab-df-convert:hover {\n",
              "      background-color: #E2EBFA;\n",
              "      box-shadow: 0px 1px 2px rgba(60, 64, 67, 0.3), 0px 1px 3px 1px rgba(60, 64, 67, 0.15);\n",
              "      fill: #174EA6;\n",
              "    }\n",
              "\n",
              "    [theme=dark] .colab-df-convert {\n",
              "      background-color: #3B4455;\n",
              "      fill: #D2E3FC;\n",
              "    }\n",
              "\n",
              "    [theme=dark] .colab-df-convert:hover {\n",
              "      background-color: #434B5C;\n",
              "      box-shadow: 0px 1px 3px 1px rgba(0, 0, 0, 0.15);\n",
              "      filter: drop-shadow(0px 1px 2px rgba(0, 0, 0, 0.3));\n",
              "      fill: #FFFFFF;\n",
              "    }\n",
              "  </style>\n",
              "\n",
              "      <script>\n",
              "        const buttonEl =\n",
              "          document.querySelector('#df-c3df5620-3c59-468c-b684-ba725b266759 button.colab-df-convert');\n",
              "        buttonEl.style.display =\n",
              "          google.colab.kernel.accessAllowed ? 'block' : 'none';\n",
              "\n",
              "        async function convertToInteractive(key) {\n",
              "          const element = document.querySelector('#df-c3df5620-3c59-468c-b684-ba725b266759');\n",
              "          const dataTable =\n",
              "            await google.colab.kernel.invokeFunction('convertToInteractive',\n",
              "                                                     [key], {});\n",
              "          if (!dataTable) return;\n",
              "\n",
              "          const docLinkHtml = 'Like what you see? Visit the ' +\n",
              "            '<a target=\"_blank\" href=https://colab.research.google.com/notebooks/data_table.ipynb>data table notebook</a>'\n",
              "            + ' to learn more about interactive tables.';\n",
              "          element.innerHTML = '';\n",
              "          dataTable['output_type'] = 'display_data';\n",
              "          await google.colab.output.renderOutput(dataTable, element);\n",
              "          const docLink = document.createElement('div');\n",
              "          docLink.innerHTML = docLinkHtml;\n",
              "          element.appendChild(docLink);\n",
              "        }\n",
              "      </script>\n",
              "    </div>\n",
              "  </div>\n",
              "  "
            ]
          },
          "metadata": {},
          "execution_count": 148
        }
      ],
      "source": [
        "todo_csv"
      ]
    },
    {
      "cell_type": "markdown",
      "source": [
        "groupbyとlambdaを利用して、同じ料理名のものは数量を足し合わせる。"
      ],
      "metadata": {
        "id": "wO9ip05XVpFI"
      }
    },
    {
      "cell_type": "code",
      "source": [
        "todo_csv = todo_csv.groupby('材料').apply(lambda x: x.sum()).drop('材料', axis = 1).reset_index()\n",
        "todo_csv"
      ],
      "metadata": {
        "id": "6rs0QmnAGX2r",
        "colab": {
          "base_uri": "https://localhost:8080/",
          "height": 206
        },
        "outputId": "1b831e7b-5dfc-452a-9249-4500834b4021"
      },
      "execution_count": 149,
      "outputs": [
        {
          "output_type": "execute_result",
          "data": {
            "text/plain": [
              "     材料      数量\n",
              "0    味噌     6.0\n",
              "1    豆腐    12.0\n",
              "2  にんじん     6.9\n",
              "3   玉ねぎ    17.5\n",
              "4  豚ひき肉  2990.0"
            ],
            "text/html": [
              "\n",
              "  <div id=\"df-8181ab93-d7e5-4b32-b7d5-f4cacea50b90\">\n",
              "    <div class=\"colab-df-container\">\n",
              "      <div>\n",
              "<style scoped>\n",
              "    .dataframe tbody tr th:only-of-type {\n",
              "        vertical-align: middle;\n",
              "    }\n",
              "\n",
              "    .dataframe tbody tr th {\n",
              "        vertical-align: top;\n",
              "    }\n",
              "\n",
              "    .dataframe thead th {\n",
              "        text-align: right;\n",
              "    }\n",
              "</style>\n",
              "<table border=\"1\" class=\"dataframe\">\n",
              "  <thead>\n",
              "    <tr style=\"text-align: right;\">\n",
              "      <th></th>\n",
              "      <th>材料</th>\n",
              "      <th>数量</th>\n",
              "    </tr>\n",
              "  </thead>\n",
              "  <tbody>\n",
              "    <tr>\n",
              "      <th>0</th>\n",
              "      <td>味噌</td>\n",
              "      <td>6.0</td>\n",
              "    </tr>\n",
              "    <tr>\n",
              "      <th>1</th>\n",
              "      <td>豆腐</td>\n",
              "      <td>12.0</td>\n",
              "    </tr>\n",
              "    <tr>\n",
              "      <th>2</th>\n",
              "      <td>にんじん</td>\n",
              "      <td>6.9</td>\n",
              "    </tr>\n",
              "    <tr>\n",
              "      <th>3</th>\n",
              "      <td>玉ねぎ</td>\n",
              "      <td>17.5</td>\n",
              "    </tr>\n",
              "    <tr>\n",
              "      <th>4</th>\n",
              "      <td>豚ひき肉</td>\n",
              "      <td>2990.0</td>\n",
              "    </tr>\n",
              "  </tbody>\n",
              "</table>\n",
              "</div>\n",
              "      <button class=\"colab-df-convert\" onclick=\"convertToInteractive('df-8181ab93-d7e5-4b32-b7d5-f4cacea50b90')\"\n",
              "              title=\"Convert this dataframe to an interactive table.\"\n",
              "              style=\"display:none;\">\n",
              "        \n",
              "  <svg xmlns=\"http://www.w3.org/2000/svg\" height=\"24px\"viewBox=\"0 0 24 24\"\n",
              "       width=\"24px\">\n",
              "    <path d=\"M0 0h24v24H0V0z\" fill=\"none\"/>\n",
              "    <path d=\"M18.56 5.44l.94 2.06.94-2.06 2.06-.94-2.06-.94-.94-2.06-.94 2.06-2.06.94zm-11 1L8.5 8.5l.94-2.06 2.06-.94-2.06-.94L8.5 2.5l-.94 2.06-2.06.94zm10 10l.94 2.06.94-2.06 2.06-.94-2.06-.94-.94-2.06-.94 2.06-2.06.94z\"/><path d=\"M17.41 7.96l-1.37-1.37c-.4-.4-.92-.59-1.43-.59-.52 0-1.04.2-1.43.59L10.3 9.45l-7.72 7.72c-.78.78-.78 2.05 0 2.83L4 21.41c.39.39.9.59 1.41.59.51 0 1.02-.2 1.41-.59l7.78-7.78 2.81-2.81c.8-.78.8-2.07 0-2.86zM5.41 20L4 18.59l7.72-7.72 1.47 1.35L5.41 20z\"/>\n",
              "  </svg>\n",
              "      </button>\n",
              "      \n",
              "  <style>\n",
              "    .colab-df-container {\n",
              "      display:flex;\n",
              "      flex-wrap:wrap;\n",
              "      gap: 12px;\n",
              "    }\n",
              "\n",
              "    .colab-df-convert {\n",
              "      background-color: #E8F0FE;\n",
              "      border: none;\n",
              "      border-radius: 50%;\n",
              "      cursor: pointer;\n",
              "      display: none;\n",
              "      fill: #1967D2;\n",
              "      height: 32px;\n",
              "      padding: 0 0 0 0;\n",
              "      width: 32px;\n",
              "    }\n",
              "\n",
              "    .colab-df-convert:hover {\n",
              "      background-color: #E2EBFA;\n",
              "      box-shadow: 0px 1px 2px rgba(60, 64, 67, 0.3), 0px 1px 3px 1px rgba(60, 64, 67, 0.15);\n",
              "      fill: #174EA6;\n",
              "    }\n",
              "\n",
              "    [theme=dark] .colab-df-convert {\n",
              "      background-color: #3B4455;\n",
              "      fill: #D2E3FC;\n",
              "    }\n",
              "\n",
              "    [theme=dark] .colab-df-convert:hover {\n",
              "      background-color: #434B5C;\n",
              "      box-shadow: 0px 1px 3px 1px rgba(0, 0, 0, 0.15);\n",
              "      filter: drop-shadow(0px 1px 2px rgba(0, 0, 0, 0.3));\n",
              "      fill: #FFFFFF;\n",
              "    }\n",
              "  </style>\n",
              "\n",
              "      <script>\n",
              "        const buttonEl =\n",
              "          document.querySelector('#df-8181ab93-d7e5-4b32-b7d5-f4cacea50b90 button.colab-df-convert');\n",
              "        buttonEl.style.display =\n",
              "          google.colab.kernel.accessAllowed ? 'block' : 'none';\n",
              "\n",
              "        async function convertToInteractive(key) {\n",
              "          const element = document.querySelector('#df-8181ab93-d7e5-4b32-b7d5-f4cacea50b90');\n",
              "          const dataTable =\n",
              "            await google.colab.kernel.invokeFunction('convertToInteractive',\n",
              "                                                     [key], {});\n",
              "          if (!dataTable) return;\n",
              "\n",
              "          const docLinkHtml = 'Like what you see? Visit the ' +\n",
              "            '<a target=\"_blank\" href=https://colab.research.google.com/notebooks/data_table.ipynb>data table notebook</a>'\n",
              "            + ' to learn more about interactive tables.';\n",
              "          element.innerHTML = '';\n",
              "          dataTable['output_type'] = 'display_data';\n",
              "          await google.colab.output.renderOutput(dataTable, element);\n",
              "          const docLink = document.createElement('div');\n",
              "          docLink.innerHTML = docLinkHtml;\n",
              "          element.appendChild(docLink);\n",
              "        }\n",
              "      </script>\n",
              "    </div>\n",
              "  </div>\n",
              "  "
            ]
          },
          "metadata": {},
          "execution_count": 149
        }
      ]
    },
    {
      "cell_type": "markdown",
      "source": [
        "csv形式で出力。 windowsのexcelだと文字化けしたので、文字コードをutf_8_sigに設定。"
      ],
      "metadata": {
        "id": "DT8yWxzbVviF"
      }
    },
    {
      "cell_type": "code",
      "source": [
        "todo_csv.to_csv('todo.csv', encoding = 'utf_8_sig')"
      ],
      "metadata": {
        "id": "a0iAjmiIF8tE"
      },
      "execution_count": 151,
      "outputs": []
    }
  ],
  "metadata": {
    "colab": {
      "collapsed_sections": [],
      "name": "献立自動化.ipynb",
      "provenance": [],
      "authorship_tag": "ABX9TyNeSAOH5dBmSf1roua0DbHZ",
      "include_colab_link": true
    },
    "kernelspec": {
      "display_name": "Python 3",
      "name": "python3"
    },
    "language_info": {
      "name": "python"
    }
  },
  "nbformat": 4,
  "nbformat_minor": 0
}